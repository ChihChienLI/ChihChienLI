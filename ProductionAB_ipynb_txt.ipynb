{
  "nbformat": 4,
  "nbformat_minor": 0,
  "metadata": {
    "colab": {
      "provenance": [],
      "include_colab_link": true
    },
    "kernelspec": {
      "name": "python3",
      "display_name": "Python 3"
    },
    "language_info": {
      "name": "python"
    }
  },
  "cells": [
    {
      "cell_type": "markdown",
      "metadata": {
        "id": "view-in-github",
        "colab_type": "text"
      },
      "source": [
        "<a href=\"https://colab.research.google.com/github/ChihChienLI/ChihChienLI/blob/main/ProductionAB_ipynb_txt.ipynb\" target=\"_parent\"><img src=\"https://colab.research.google.com/assets/colab-badge.svg\" alt=\"Open In Colab\"/></a>"
      ]
    },
    {
      "cell_type": "code",
      "execution_count": null,
      "metadata": {
        "colab": {
          "base_uri": "https://localhost:8080/"
        },
        "id": "wBoZbJhBSWG-",
        "outputId": "92360104-e270-4d47-9e3d-8b06787cc903"
      },
      "outputs": [
        {
          "output_type": "stream",
          "name": "stdout",
          "text": [
            "Looking in indexes: https://pypi.org/simple, https://us-python.pkg.dev/colab-wheels/public/simple/\n",
            "Requirement already satisfied: gurobipy in /usr/local/lib/python3.9/dist-packages (10.0.1)\n"
          ]
        }
      ],
      "source": [
        "%pip install gurobipy"
      ]
    },
    {
      "cell_type": "code",
      "source": [
        "from gurobipy import *"
      ],
      "metadata": {
        "id": "GEOA1dLgSrup"
      },
      "execution_count": null,
      "outputs": []
    },
    {
      "cell_type": "code",
      "source": [
        "# data\n",
        "p = [4, 5] #price vector\n",
        "c = [[2,1], [1,2],[0,1]] #consumption matrix\n",
        "K = [8, 7, 3] #capacity vector\n",
        "\n",
        "num_products = 2\n",
        "#num_products = len(p)\n",
        "num_materials = 3 \n",
        "#num_materials = len(K)"
      ],
      "metadata": {
        "id": "XVvCK6paSxkX"
      },
      "execution_count": null,
      "outputs": []
    },
    {
      "cell_type": "code",
      "source": [
        "# create the model\n",
        "m = Model('ProductionAB')\n",
        "\n",
        "# add the variables x[j] for each product j\n",
        "x = m.addVars(num_products, name='Production')\n",
        "\n",
        "# add the objective function (maximize the revenues)\n",
        "m.setObjective( quicksum(p[j]*x[j] for j in range(num_products)), GRB.MAXIMIZE)\n",
        "\n",
        "# add the constraints on the raw materials capacities\n",
        "m.addConstrs( quicksum(c[i][j]*x[j] for j in range(num_products)) <= K[i] for i in range(num_materials))\n",
        "\n",
        "# solve the model\n",
        "m.optimize()\n",
        "\n",
        "# print the values of the variables and the objective function\n",
        "for v in m.getVars():\n",
        "  print( v.varName, v.X)\n",
        "print('Optimal revenues: ', m.objVal)"
      ],
      "metadata": {
        "colab": {
          "base_uri": "https://localhost:8080/"
        },
        "id": "NaZmogwgTqGP",
        "outputId": "c8b3eacb-0718-4a10-8bfd-9e21a7383de3"
      },
      "execution_count": null,
      "outputs": [
        {
          "output_type": "stream",
          "name": "stdout",
          "text": [
            "Gurobi Optimizer version 10.0.1 build v10.0.1rc0 (linux64)\n",
            "\n",
            "CPU model: Intel(R) Xeon(R) CPU @ 2.20GHz, instruction set [SSE2|AVX|AVX2]\n",
            "Thread count: 1 physical cores, 2 logical processors, using up to 2 threads\n",
            "\n",
            "Optimize a model with 3 rows, 2 columns and 5 nonzeros\n",
            "Model fingerprint: 0x4e2ea21b\n",
            "Coefficient statistics:\n",
            "  Matrix range     [1e+00, 2e+00]\n",
            "  Objective range  [4e+00, 5e+00]\n",
            "  Bounds range     [0e+00, 0e+00]\n",
            "  RHS range        [3e+00, 8e+00]\n",
            "Presolve removed 1 rows and 0 columns\n",
            "Presolve time: 0.01s\n",
            "Presolved: 2 rows, 2 columns, 4 nonzeros\n",
            "\n",
            "Iteration    Objective       Primal Inf.    Dual Inf.      Time\n",
            "       0    4.0000000e+01   9.500000e+00   0.000000e+00      0s\n",
            "       2    2.2000000e+01   0.000000e+00   0.000000e+00      0s\n",
            "\n",
            "Solved in 2 iterations and 0.02 seconds (0.00 work units)\n",
            "Optimal objective  2.200000000e+01\n",
            "Production[0] 3.0\n",
            "Production[1] 2.0\n",
            "Optimal revenues:  22.0\n"
          ]
        }
      ]
    }
  ]
}