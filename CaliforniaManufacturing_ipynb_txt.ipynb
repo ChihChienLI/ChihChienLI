{
  "nbformat": 4,
  "nbformat_minor": 0,
  "metadata": {
    "colab": {
      "provenance": [],
      "include_colab_link": true
    },
    "kernelspec": {
      "name": "python3",
      "display_name": "Python 3"
    },
    "language_info": {
      "name": "python"
    }
  },
  "cells": [
    {
      "cell_type": "markdown",
      "metadata": {
        "id": "view-in-github",
        "colab_type": "text"
      },
      "source": [
        "<a href=\"https://colab.research.google.com/github/ChihChienLI/ChihChienLI/blob/main/CaliforniaManufacturing_ipynb_txt.ipynb\" target=\"_parent\"><img src=\"https://colab.research.google.com/assets/colab-badge.svg\" alt=\"Open In Colab\"/></a>"
      ]
    },
    {
      "cell_type": "code",
      "execution_count": null,
      "metadata": {
        "colab": {
          "base_uri": "https://localhost:8080/"
        },
        "id": "D3bdCw0v5E3k",
        "outputId": "e3e022f1-b8fd-487a-ce8b-8bde275845fd"
      },
      "outputs": [
        {
          "output_type": "stream",
          "name": "stdout",
          "text": [
            "Looking in indexes: https://pypi.org/simple, https://us-python.pkg.dev/colab-wheels/public/simple/\n",
            "Collecting gurobipy\n",
            "  Downloading gurobipy-10.0.1-cp39-cp39-manylinux2014_x86_64.whl (12.8 MB)\n",
            "\u001b[2K     \u001b[90m━━━━━━━━━━━━━━━━━━━━━━━━━━━━━━━━━━━━━━━━\u001b[0m \u001b[32m12.8/12.8 MB\u001b[0m \u001b[31m54.7 MB/s\u001b[0m eta \u001b[36m0:00:00\u001b[0m\n",
            "\u001b[?25hInstalling collected packages: gurobipy\n",
            "Successfully installed gurobipy-10.0.1\n"
          ]
        }
      ],
      "source": [
        "%pip install gurobipy"
      ]
    },
    {
      "cell_type": "code",
      "source": [
        "from gurobipy import *\n",
        "\n",
        "# DATA\n",
        "p = [9,5,6,4] #unitary NPV\n",
        "c = [6,3,5,2] #unitary costs\n",
        "budget = 10\n",
        "nr_investments = 4 #len(c), #len(p)\n",
        "\n",
        "# MODEL\n",
        "m = Model('CaliforniaManufacturing')\n",
        "# variables\n",
        "x = m.addVars(nr_investments, vtype = GRB.BINARY, name = 'x')\n",
        "# objective function\n",
        "m.setObjective( quicksum( p[j]*x[j] for j in range(nr_investments)), GRB.MAXIMIZE )\n",
        "# budget constraint\n",
        "m.addConstr( quicksum(c[j]*x[j] for j in range(nr_investments)) <= budget )\n",
        "# logical constraints\n",
        "m.addConstr( x[2] + x[3] <= 1)\n",
        "m.addConstr( x[2] <= x[0] )\n",
        "m.addConstr( x[3] <= x[1])\n",
        "\n",
        "#solve the model\n",
        "m.optimize()\n",
        "\n",
        "# print the solution\n",
        "for v in m.getVars():\n",
        "  print(v.varName, v.X)\n",
        "print(\"Optimal NPV: \", m.objVal)"
      ],
      "metadata": {
        "colab": {
          "base_uri": "https://localhost:8080/"
        },
        "id": "3jgIlPHI5M7o",
        "outputId": "75a3395a-61d6-4e76-b7db-503a283f24f8"
      },
      "execution_count": null,
      "outputs": [
        {
          "output_type": "stream",
          "name": "stdout",
          "text": [
            "Gurobi Optimizer version 10.0.1 build v10.0.1rc0 (linux64)\n",
            "\n",
            "CPU model: Intel(R) Xeon(R) CPU @ 2.20GHz, instruction set [SSE2|AVX|AVX2]\n",
            "Thread count: 1 physical cores, 2 logical processors, using up to 2 threads\n",
            "\n",
            "Optimize a model with 4 rows, 4 columns and 10 nonzeros\n",
            "Model fingerprint: 0xd66bc478\n",
            "Variable types: 0 continuous, 4 integer (4 binary)\n",
            "Coefficient statistics:\n",
            "  Matrix range     [1e+00, 6e+00]\n",
            "  Objective range  [4e+00, 9e+00]\n",
            "  Bounds range     [1e+00, 1e+00]\n",
            "  RHS range        [1e+00, 1e+01]\n",
            "Found heuristic solution: objective 14.0000000\n",
            "Presolve removed 4 rows and 4 columns\n",
            "Presolve time: 0.00s\n",
            "Presolve: All rows and columns removed\n",
            "\n",
            "Explored 0 nodes (0 simplex iterations) in 0.02 seconds (0.00 work units)\n",
            "Thread count was 1 (of 2 available processors)\n",
            "\n",
            "Solution count 1: 14 \n",
            "\n",
            "Optimal solution found (tolerance 1.00e-04)\n",
            "Best objective 1.400000000000e+01, best bound 1.400000000000e+01, gap 0.0000%\n",
            "x[0] 1.0\n",
            "x[1] 1.0\n",
            "x[2] 0.0\n",
            "x[3] 0.0\n",
            "Optimal NPV:  14.0\n"
          ]
        }
      ]
    }
  ]
}