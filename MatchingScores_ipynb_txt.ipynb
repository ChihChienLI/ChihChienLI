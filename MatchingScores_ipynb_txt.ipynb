{
  "cells": [
    {
      "cell_type": "markdown",
      "metadata": {
        "id": "view-in-github",
        "colab_type": "text"
      },
      "source": [
        "<a href=\"https://colab.research.google.com/github/ChihChienLI/ChihChienLI/blob/main/MatchingScores_ipynb_txt.ipynb\" target=\"_parent\"><img src=\"https://colab.research.google.com/assets/colab-badge.svg\" alt=\"Open In Colab\"/></a>"
      ]
    },
    {
      "cell_type": "code",
      "execution_count": null,
      "metadata": {
        "colab": {
          "base_uri": "https://localhost:8080/"
        },
        "id": "1Mx2yyv-DO8i",
        "outputId": "c4fc0c08-dd39-4e9e-94b9-e01c64938c93"
      },
      "outputs": [
        {
          "name": "stdout",
          "output_type": "stream",
          "text": [
            "Looking in indexes: https://pypi.org/simple, https://us-python.pkg.dev/colab-wheels/public/simple/\n",
            "Collecting gurobipy\n",
            "  Downloading gurobipy-10.0.1-cp39-cp39-manylinux2014_x86_64.whl (12.8 MB)\n",
            "\u001b[2K     \u001b[90m━━━━━━━━━━━━━━━━━━━━━━━━━━━━━━━━━━━━━━━━\u001b[0m \u001b[32m12.8/12.8 MB\u001b[0m \u001b[31m78.2 MB/s\u001b[0m eta \u001b[36m0:00:00\u001b[0m\n",
            "\u001b[?25hInstalling collected packages: gurobipy\n",
            "Successfully installed gurobipy-10.0.1\n"
          ]
        }
      ],
      "source": [
        "%pip install gurobipy"
      ]
    },
    {
      "cell_type": "code",
      "execution_count": null,
      "metadata": {
        "colab": {
          "base_uri": "https://localhost:8080/"
        },
        "id": "sooz9_6vD0g7",
        "outputId": "810abde6-d2dd-48eb-a620-26bb65420055"
      },
      "outputs": [
        {
          "name": "stdout",
          "output_type": "stream",
          "text": [
            "        Tester  JavaDeveloper  Architect\n",
            "Carlos      53             27         13\n",
            "Joe         80             47         67\n",
            "Monika      53             73         47\n"
          ]
        }
      ],
      "source": [
        "from gurobipy import *\n",
        "import pandas as pd\n",
        "\n",
        "# read the data from excel\n",
        "ms = pd.read_excel('MatchingScores.xlsx', index_col = 0)\n",
        "print(ms)"
      ]
    },
    {
      "cell_type": "code",
      "execution_count": null,
      "metadata": {
        "id": "FP3IBYSMEjx6"
      },
      "outputs": [],
      "source": [
        "# print the matching score of Joe as a Tester\n",
        "#print(ms.loc['Joe','Tester'])\n",
        "#print(ms.iloc[0,0])\n",
        "\n",
        "# save the ms of JavaDeveloper job\n",
        "ms_java = ms.iloc[:,1]\n",
        "#print(ms_java)\n",
        "\n",
        "# save the ms of Monika\n",
        "ms_Monika = ms.iloc[-1,:]\n",
        "#print(ms_Monika)\n",
        "\n",
        "nr_resources = len(ms_java)\n",
        "nr_jobs = len(ms_Monika)"
      ]
    },
    {
      "cell_type": "code",
      "execution_count": null,
      "metadata": {
        "id": "vuKRKMN3GMIh"
      },
      "outputs": [],
      "source": [
        "m = Model('MathcingScores')\n",
        "\n",
        "# variables\n",
        "x = m.addVars(nr_resources,nr_jobs, vtype = GRB.BINARY, name = 'x')\n",
        "\n",
        "# objective function\n",
        "m.setObjective( quicksum( ms.iloc[i,j]*x[i,j] for i in range(nr_resources) for j in range(nr_jobs)), GRB.MAXIMIZE )\n",
        "\n",
        "# constraints \n",
        "m.addConstrs( quicksum( x[i,j] for i in range(nr_resources)) == 1 for j in range(nr_jobs))\n",
        "m.addConstrs( quicksum( x[i,j] for j in range(nr_jobs)) <= 1 for i in range(nr_resources) )\n",
        "\n",
        "# solve the model\n",
        "m.optimize()\n",
        "\n",
        "# print the solution and the optimal objective function value\n",
        "for v in m.getVars():\n",
        "  print(v.varName, v.X)\n",
        "\n",
        "print('Optimal total matching score: ', m.objval)"
      ]
    },
    {
      "cell_type": "code",
      "source": [
        "# store the solution in a file\n",
        "f = open('MS_solution.txt', 'w')\n",
        "for v in m.getVars():\n",
        "  f.write( str(v.varName)+\" = \"+str(v.X)+\"\\n\")\n",
        "\n",
        "f.write(\"Optimal total matching score: \"+str(m.objval))\n",
        "f.close()"
      ],
      "metadata": {
        "id": "K9PZbWD9Jr7r"
      },
      "execution_count": null,
      "outputs": []
    }
  ],
  "metadata": {
    "colab": {
      "provenance": [],
      "include_colab_link": true
    },
    "kernelspec": {
      "display_name": "Python 3",
      "name": "python3"
    },
    "language_info": {
      "name": "python"
    }
  },
  "nbformat": 4,
  "nbformat_minor": 0
}