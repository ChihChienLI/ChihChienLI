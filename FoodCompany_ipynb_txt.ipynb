{
  "nbformat": 4,
  "nbformat_minor": 0,
  "metadata": {
    "colab": {
      "provenance": [],
      "include_colab_link": true
    },
    "kernelspec": {
      "name": "python3",
      "display_name": "Python 3"
    },
    "language_info": {
      "name": "python"
    }
  },
  "cells": [
    {
      "cell_type": "markdown",
      "metadata": {
        "id": "view-in-github",
        "colab_type": "text"
      },
      "source": [
        "<a href=\"https://colab.research.google.com/github/ChihChienLI/ChihChienLI/blob/main/FoodCompany_ipynb_txt.ipynb\" target=\"_parent\"><img src=\"https://colab.research.google.com/assets/colab-badge.svg\" alt=\"Open In Colab\"/></a>"
      ]
    },
    {
      "cell_type": "code",
      "execution_count": null,
      "metadata": {
        "id": "lXwAVFrJO2Dt"
      },
      "outputs": [],
      "source": [
        "# installation \n",
        "%pip install gurobipy"
      ]
    },
    {
      "cell_type": "code",
      "source": [
        "# import all the functions\n",
        "from gurobipy import *"
      ],
      "metadata": {
        "id": "Raoz2F8iPUcY"
      },
      "execution_count": null,
      "outputs": []
    },
    {
      "cell_type": "code",
      "source": [
        "# create the model\n",
        "m = Model('FoodCompany')\n",
        "\n",
        "# add the variables x_R, x_P\n",
        "x_R = m.addVar(name='Regular')\n",
        "x_P = m.addVar(name='Premium')\n",
        "\n",
        "# add the objective function (maximize the revenues)\n",
        "m.setObjective( 2*x_R + 2.8*x_P, GRB.MAXIMIZE)\n",
        "\n",
        "# add the constraints on cereal and meat capacities\n",
        "m.addConstr( 2*x_R + 3*x_P <= 400)\n",
        "m.addConstr( 3*x_R + 1.5*x_P <= 300)\n",
        "\n",
        "# add the constraint on machine capacity\n",
        "m.addConstr( x_R <= 90)\n",
        "\n",
        "# solve the model\n",
        "m.optimize()"
      ],
      "metadata": {
        "colab": {
          "base_uri": "https://localhost:8080/"
        },
        "id": "jBEhcBgBPnQo",
        "outputId": "f720d0a3-9b8b-4c8f-b32c-6d0e533d9711"
      },
      "execution_count": null,
      "outputs": [
        {
          "output_type": "stream",
          "name": "stdout",
          "text": [
            "Gurobi Optimizer version 10.0.1 build v10.0.1rc0 (linux64)\n",
            "\n",
            "CPU model: Intel(R) Xeon(R) CPU @ 2.20GHz, instruction set [SSE2|AVX|AVX2]\n",
            "Thread count: 1 physical cores, 2 logical processors, using up to 2 threads\n",
            "\n",
            "Optimize a model with 3 rows, 2 columns and 5 nonzeros\n",
            "Model fingerprint: 0x1890fe6f\n",
            "Coefficient statistics:\n",
            "  Matrix range     [1e+00, 3e+00]\n",
            "  Objective range  [2e+00, 3e+00]\n",
            "  Bounds range     [0e+00, 0e+00]\n",
            "  RHS range        [9e+01, 4e+02]\n",
            "Presolve removed 1 rows and 0 columns\n",
            "Presolve time: 0.01s\n",
            "Presolved: 2 rows, 2 columns, 4 nonzeros\n",
            "\n",
            "Iteration    Objective       Primal Inf.    Dual Inf.      Time\n",
            "       0    4.0000000e+02   4.625000e+01   0.000000e+00      0s\n",
            "       2    3.8000000e+02   0.000000e+00   0.000000e+00      0s\n",
            "\n",
            "Solved in 2 iterations and 0.02 seconds (0.00 work units)\n",
            "Optimal objective  3.800000000e+02\n"
          ]
        }
      ]
    },
    {
      "cell_type": "code",
      "source": [
        "# print the optimal solution\n",
        "for v in m.getVars():\n",
        "  print(v.varName, v.X)\n",
        "\n",
        "# print the optimal revenues\n",
        "print('Optimal total revenues: ',m.objVal)"
      ],
      "metadata": {
        "colab": {
          "base_uri": "https://localhost:8080/"
        },
        "id": "9wDW9y0nRbcN",
        "outputId": "3f3e926b-3949-4010-a83c-7f0abe7ee4f3"
      },
      "execution_count": null,
      "outputs": [
        {
          "output_type": "stream",
          "name": "stdout",
          "text": [
            "Regular 50.0\n",
            "Premium 100.0\n",
            "Optimal total revenues:  380.0\n"
          ]
        }
      ]
    }
  ]
}