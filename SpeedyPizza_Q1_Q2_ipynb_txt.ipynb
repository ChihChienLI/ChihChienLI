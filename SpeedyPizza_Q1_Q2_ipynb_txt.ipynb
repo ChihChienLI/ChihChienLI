{
  "nbformat": 4,
  "nbformat_minor": 0,
  "metadata": {
    "colab": {
      "provenance": [],
      "include_colab_link": true
    },
    "kernelspec": {
      "name": "python3",
      "display_name": "Python 3"
    },
    "language_info": {
      "name": "python"
    }
  },
  "cells": [
    {
      "cell_type": "markdown",
      "metadata": {
        "id": "view-in-github",
        "colab_type": "text"
      },
      "source": [
        "<a href=\"https://colab.research.google.com/github/ChihChienLI/ChihChienLI/blob/main/SpeedyPizza_Q1_Q2_ipynb_txt.ipynb\" target=\"_parent\"><img src=\"https://colab.research.google.com/assets/colab-badge.svg\" alt=\"Open In Colab\"/></a>"
      ]
    },
    {
      "cell_type": "code",
      "execution_count": null,
      "metadata": {
        "id": "xeM0SzqKqQ0R"
      },
      "outputs": [],
      "source": []
    },
    {
      "cell_type": "markdown",
      "source": [
        "# **SPEEDY PIZZA** case"
      ],
      "metadata": {
        "id": "N8-7mZyYBlI-"
      }
    },
    {
      "cell_type": "markdown",
      "source": [
        "Install gurobipy and import all the functions in gurobipy."
      ],
      "metadata": {
        "id": "8mgGSjk2Dhtr"
      }
    },
    {
      "cell_type": "code",
      "execution_count": null,
      "metadata": {
        "id": "__b7wUQQ18ED",
        "colab": {
          "base_uri": "https://localhost:8080/"
        },
        "outputId": "52b98566-9ccd-485f-c634-dbcc8a1c0ec7"
      },
      "outputs": [
        {
          "output_type": "stream",
          "name": "stdout",
          "text": [
            "Looking in indexes: https://pypi.org/simple, https://us-python.pkg.dev/colab-wheels/public/simple/\n",
            "Requirement already satisfied: gurobipy in /usr/local/lib/python3.9/dist-packages (10.0.1)\n"
          ]
        }
      ],
      "source": [
        "# Installation\n",
        "%pip install gurobipy"
      ]
    },
    {
      "cell_type": "code",
      "source": [
        "# Import all the functions\n",
        "from gurobipy import *"
      ],
      "metadata": {
        "id": "rztARf_MJh2o"
      },
      "execution_count": null,
      "outputs": []
    },
    {
      "cell_type": "markdown",
      "source": [
        "Import and prepare the data"
      ],
      "metadata": {
        "id": "S0VP8P_kBqUk"
      }
    },
    {
      "cell_type": "code",
      "source": [
        "# Import the data from an Excel file\n",
        "\n",
        "# import the library called pandas first\n",
        "import pandas as pd\n",
        "\n",
        "# then, upload the data and save them into \"data\"\n",
        "data = pd.read_excel('Speedy_Pizza_Data.xlsx', index_col=0)\n",
        "\n",
        "# select the times\n",
        "times = data.iloc[:-1,:-3]\n",
        "\n",
        "# select the threshold t_max\n",
        "t_max = data.iloc[0,-3]"
      ],
      "metadata": {
        "id": "Y4PtPzGP4YJf"
      },
      "execution_count": null,
      "outputs": []
    },
    {
      "cell_type": "code",
      "source": [
        "# Set the number of districts and the number of sites\n",
        "\n",
        "# the number of sites is equal to the number of rows (i.e., index) of times\n",
        "# alternatively, you can set the number by hand\n",
        "num_districts = len(times.index)\n",
        "\n",
        "# the number of sites is equal to the number of columns of times\n",
        "# alternatively, you can set the number by hand\n",
        "num_sites = len(times.columns) "
      ],
      "metadata": {
        "id": "PMArmQXLANO-"
      },
      "execution_count": null,
      "outputs": []
    },
    {
      "cell_type": "code",
      "source": [
        "# Create matrix a (first empty)\n",
        "a = pd.DataFrame(0, index=range(num_districts), columns=range(num_sites))\n",
        "for i in range(num_districts):\n",
        "  for j in range(num_sites):\n",
        "    if times.iloc[i,j] <= t_max:\n",
        "      a.iloc[i,j] = 1\n",
        "    else: #not needed\n",
        "      a.iloc[i,j] = 0"
      ],
      "metadata": {
        "id": "iE2KVrzFOl43"
      },
      "execution_count": null,
      "outputs": []
    },
    {
      "cell_type": "code",
      "source": [
        "# Uncomment one of the following to display the corresponding data\n",
        "\n",
        "#print(data)\n",
        "#print(times)\n",
        "#print(t_max)\n",
        "#print(a)\n",
        "\n",
        "#print(num_districts)\n",
        "#print(num_sites)"
      ],
      "metadata": {
        "id": "LOjamBG1-UIf"
      },
      "execution_count": null,
      "outputs": []
    },
    {
      "cell_type": "markdown",
      "source": [
        "## Q1\n",
        "\n",
        "Create and solve the ILP model for Q1."
      ],
      "metadata": {
        "id": "3gzgsLmNRyAs"
      }
    },
    {
      "cell_type": "code",
      "source": [
        "# Initialize the model\n",
        "m1 = Model('Q1')\n",
        "\n",
        "# Create the variable y[j] = 1 if site j is chosen as a store, 0 otherwise\n",
        "y = m1.addVars(num_sites, vtype=GRB.BINARY, name='y')\n",
        "\n",
        "# Objective: minimize the number of open stores\n",
        "m1.setObjective(quicksum(y[j] for j in range(num_sites)), GRB.MINIMIZE)\n",
        "\n",
        "# Constraint: each district is covered by at least one open store\n",
        "m1.addConstrs(quicksum(a.iloc[i,j]*y[j] for j in range(num_sites)) >= 1 for i in range(num_districts))\n",
        "\n",
        "# Write the model\n",
        "m1.write('Q1_model.lp')\n",
        "\n",
        "# Call the solver \n",
        "m1.optimize()"
      ],
      "metadata": {
        "id": "uSQNPuVXLHLS",
        "colab": {
          "base_uri": "https://localhost:8080/"
        },
        "outputId": "affabc39-ff29-4f85-d29d-37d1dbd43db0"
      },
      "execution_count": null,
      "outputs": [
        {
          "output_type": "stream",
          "name": "stdout",
          "text": [
            "Restricted license - for non-production use only - expires 2024-10-28\n",
            "Gurobi Optimizer version 10.0.1 build v10.0.1rc0 (linux64)\n",
            "\n",
            "CPU model: Intel(R) Xeon(R) CPU @ 2.20GHz, instruction set [SSE2|AVX|AVX2]\n",
            "Thread count: 1 physical cores, 2 logical processors, using up to 2 threads\n",
            "\n",
            "Optimize a model with 10 rows, 7 columns and 31 nonzeros\n",
            "Model fingerprint: 0xcfb16f4e\n",
            "Variable types: 0 continuous, 7 integer (7 binary)\n",
            "Coefficient statistics:\n",
            "  Matrix range     [1e+00, 1e+00]\n",
            "  Objective range  [1e+00, 1e+00]\n",
            "  Bounds range     [1e+00, 1e+00]\n",
            "  RHS range        [1e+00, 1e+00]\n",
            "Found heuristic solution: objective 3.0000000\n",
            "Presolve removed 10 rows and 7 columns\n",
            "Presolve time: 0.00s\n",
            "Presolve: All rows and columns removed\n",
            "\n",
            "Explored 0 nodes (0 simplex iterations) in 0.01 seconds (0.00 work units)\n",
            "Thread count was 1 (of 2 available processors)\n",
            "\n",
            "Solution count 1: 3 \n",
            "\n",
            "Optimal solution found (tolerance 1.00e-04)\n",
            "Best objective 3.000000000000e+00, best bound 3.000000000000e+00, gap 0.0000%\n"
          ]
        }
      ]
    },
    {
      "cell_type": "code",
      "source": [
        "# Display the solution and the value\n",
        "for v in m1.getVars():\n",
        "    print(v.varName, v.X)\n",
        "print(\"Optimal number of sites: \", m1.objVal)\n",
        "\n",
        "# Save the solution and the obj. value in a file named 'Q1.txt'\n",
        "f = open('Q1.txt', 'w')\n",
        "f.write(\"Optimal solution:\\n\")\n",
        "for v in m1.getVars():\n",
        "  f.write(str(v.varName)+\" = \"+str(v.X)+\"\\n\")\n",
        "f.write(\"Optimal number of open sites: \"+str(m1.objVal))\n",
        "f.close()"
      ],
      "metadata": {
        "id": "aDASbMCTKNPa",
        "colab": {
          "base_uri": "https://localhost:8080/"
        },
        "outputId": "f046754f-4bbc-47c5-cdd0-0bd831e3fa4c"
      },
      "execution_count": null,
      "outputs": [
        {
          "output_type": "stream",
          "name": "stdout",
          "text": [
            "y[0] -0.0\n",
            "y[1] 0.0\n",
            "y[2] 1.0\n",
            "y[3] 1.0\n",
            "y[4] 0.0\n",
            "y[5] -0.0\n",
            "y[6] 1.0\n",
            "Optimal number of sites:  3.0\n"
          ]
        }
      ]
    },
    {
      "cell_type": "markdown",
      "source": [
        "## Q2\n",
        "Create and solve the ILP model for Q2."
      ],
      "metadata": {
        "id": "THQQUqn2R6Aa"
      }
    },
    {
      "cell_type": "code",
      "source": [
        "# Set the maximum number of open stores\n",
        "bound = data.iloc[0,-2]\n",
        "#print(bound)"
      ],
      "metadata": {
        "id": "z3oVoqF_cO0J"
      },
      "execution_count": null,
      "outputs": []
    },
    {
      "cell_type": "code",
      "source": [
        "# Initialize the model\n",
        "m2 = Model('Q2')\n",
        "\n",
        "# Create the variable y[j] = 1 if site j is chosen as a store, 0 otherwise\n",
        "y = m2.addVars(num_sites, vtype=GRB.BINARY, name='y')\n",
        "\n",
        "# Create the variable x[i,j] if store i is served by store j\n",
        "x = m2.addVars(num_districts, num_sites, vtype=GRB.BINARY, name='x')"
      ],
      "metadata": {
        "id": "WWRFShxhSIU5"
      },
      "execution_count": null,
      "outputs": []
    },
    {
      "cell_type": "code",
      "source": [
        "# Objective: minimize the average service time\n",
        "m2.setObjective( (1/num_districts)*quicksum(times.iloc[i,j]*x[i,j] for i in range(num_districts) for j in range(num_sites)), GRB.MINIMIZE)\n",
        "\n",
        "# Constraint: upper bound on the number of stores to open\n",
        "budget = m2.addConstr(quicksum(y[j] for j in range(num_sites)) <= bound)\n",
        "\n",
        "# Constraint: each district i is served by exactly one store j\n",
        "m2.addConstrs(quicksum(x[i,j] for j in range(num_sites)) == 1 for i in range(num_districts))\n",
        "\n",
        "# Constraint: assign i to j only if j is open \n",
        "m2.addConstrs(y[j] >= x[i,j] for j in range(num_sites) for i in range(num_districts))\n",
        "# alternatively: \n",
        "#m2.addConstrs(num_districts*y[j] >= quicksum(x[i,j] for i in range(num_districts)) for j in range(num_sites))\n",
        "\n",
        "# Write the model\n",
        "m1.write('Q2_model.lp')\n",
        "\n",
        "# Call the solver\n",
        "m2.optimize()\n"
      ],
      "metadata": {
        "colab": {
          "base_uri": "https://localhost:8080/"
        },
        "outputId": "69971e77-aafe-4356-9eb5-2c3b500ce015",
        "id": "kNH1AAWuSIU8"
      },
      "execution_count": null,
      "outputs": [
        {
          "output_type": "stream",
          "name": "stdout",
          "text": [
            "Gurobi Optimizer version 10.0.1 build v10.0.1rc0 (linux64)\n",
            "\n",
            "CPU model: Intel(R) Xeon(R) CPU @ 2.20GHz, instruction set [SSE2|AVX|AVX2]\n",
            "Thread count: 1 physical cores, 2 logical processors, using up to 2 threads\n",
            "\n",
            "Optimize a model with 81 rows, 77 columns and 217 nonzeros\n",
            "Model fingerprint: 0x59255021\n",
            "Variable types: 0 continuous, 77 integer (77 binary)\n",
            "Coefficient statistics:\n",
            "  Matrix range     [1e+00, 1e+00]\n",
            "  Objective range  [1e-01, 2e+00]\n",
            "  Bounds range     [1e+00, 1e+00]\n",
            "  RHS range        [1e+00, 3e+00]\n",
            "Found heuristic solution: objective 13.6000000\n",
            "Presolve time: 0.00s\n",
            "Presolved: 81 rows, 77 columns, 217 nonzeros\n",
            "Variable types: 0 continuous, 77 integer (77 binary)\n",
            "Found heuristic solution: objective 7.5000000\n",
            "\n",
            "Root relaxation: objective 4.866667e+00, 32 iterations, 0.00 seconds (0.00 work units)\n",
            "\n",
            "    Nodes    |    Current Node    |     Objective Bounds      |     Work\n",
            " Expl Unexpl |  Obj  Depth IntInf | Incumbent    BestBd   Gap | It/Node Time\n",
            "\n",
            "     0     0    4.86667    0   27    7.50000    4.86667  35.1%     -    0s\n",
            "H    0     0                       5.0000000    4.86667  2.67%     -    0s\n",
            "H    0     0                       4.9000000    4.86667  0.68%     -    0s\n",
            "     0     0    4.86667    0   27    4.90000    4.86667  0.68%     -    0s\n",
            "\n",
            "Explored 1 nodes (33 simplex iterations) in 0.03 seconds (0.00 work units)\n",
            "Thread count was 2 (of 2 available processors)\n",
            "\n",
            "Solution count 4: 4.9 5 7.5 13.6 \n",
            "\n",
            "Optimal solution found (tolerance 1.00e-04)\n",
            "Best objective 4.900000000000e+00, best bound 4.900000000000e+00, gap 0.0000%\n"
          ]
        }
      ]
    },
    {
      "cell_type": "code",
      "source": [
        "# Display the solution and the value\n",
        "for v in m2.getVars():\n",
        "  if v.X >= 1: # If we want to print only the variables which are 1 in the optimal solution\n",
        "    print(v.varName, v.X)\n",
        "print(\"Optimal average service time:\", m2.objVal)\n",
        "\n",
        "# Save the solution and the obj. value in a file named 'Q2.txt'\n",
        "f = open('Q2.txt', 'w')\n",
        "f.write(\"Optimal solution:\\n\")\n",
        "for v in m2.getVars():\n",
        "  f.write(str(v.varName)+\" = \"+str(v.X)+\"\\n\")\n",
        "f.write(\"Optimal average service time: \"+str(m2.objVal))\n",
        "f.close()\n"
      ],
      "metadata": {
        "id": "Wu-6bwUiSIU-",
        "colab": {
          "base_uri": "https://localhost:8080/"
        },
        "outputId": "538245ea-4e90-4976-cd6d-d6bc3f1fd670"
      },
      "execution_count": null,
      "outputs": [
        {
          "output_type": "stream",
          "name": "stdout",
          "text": [
            "y[0] 1.0\n",
            "y[2] 1.0\n",
            "y[3] 1.0\n",
            "x[0,2] 1.0\n",
            "x[1,3] 1.0\n",
            "x[2,0] 1.0\n",
            "x[3,2] 1.0\n",
            "x[4,3] 1.0\n",
            "x[5,2] 1.0\n",
            "x[6,2] 1.0\n",
            "x[7,2] 1.0\n",
            "x[8,0] 1.0\n",
            "x[9,0] 1.0\n",
            "Optimal average service time: 4.9\n"
          ]
        }
      ]
    }
  ]
}